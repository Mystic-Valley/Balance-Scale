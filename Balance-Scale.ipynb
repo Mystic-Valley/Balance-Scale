{
 "cells": [
  {
   "cell_type": "markdown",
   "metadata": {},
   "source": [
    "Dataset Desciption :\n",
    "Source: https://archive.ics.uci.edu/ml/datasets/Balance+Scale\n",
    "\n",
    "Generated to model psychological experiments reported by Siegler, R. S. (1976).\n",
    "Three Aspects of Cognitive Development. Cognitive Psychology, 8, 481-520.\n",
    "\n",
    "Donor:\n",
    "\n",
    "Tim Hume (hume '@' ics.uci.edu)\n",
    "\n",
    "Data Set Information:\n",
    "\n",
    "This data set was generated to model psychological experimental results. Each example is classified as having the balance scale tip to the right, tip to the left, or be balanced. The attributes are the left weight, the left distance, the right weight, and the right distance. The correct way to find the class is the greater of (left-distance * left-weight) and (right-distance * right-weight). If they are equal, it is balanced.\n",
    "\n",
    "Attribute Information:\n",
    "\n",
    "1. Class Name: 3 (L, B, R)\n",
    "2. Left-Weight: 5 (1, 2, 3, 4, 5)\n",
    "3. Left-Distance: 5 (1, 2, 3, 4, 5)\n",
    "4. Right-Weight: 5 (1, 2, 3, 4, 5)\n",
    "5. Right-Distance: 5 (1, 2, 3, 4, 5)\n"
   ]
  },
  {
   "cell_type": "markdown",
   "metadata": {},
   "source": [
    "Importing Libraries "
   ]
  },
  {
   "cell_type": "code",
   "execution_count": 1,
   "metadata": {
    "ExecuteTime": {
     "end_time": "2019-06-08T10:19:01.429175Z",
     "start_time": "2019-06-08T10:18:59.634234Z"
    }
   },
   "outputs": [],
   "source": [
    "#Importing Libraries \n",
    "#basics and Visualization\n",
    "import numpy as np \n",
    "import pandas as pd \n",
    "import seaborn as sns\n",
    "import matplotlib.pyplot as plt\n",
    "from sklearn.preprocessing import LabelEncoder\n",
    "\n",
    "#ML libraries\n",
    "from xgboost import XGBClassifier\n",
    "from sklearn.tree import DecisionTreeClassifier\n",
    "from sklearn.ensemble import RandomForestClassifier, ExtraTreesClassifier\n",
    "from sklearn.neighbors import KNeighborsClassifier\n",
    "from sklearn.svm import SVC\n",
    "from sklearn.model_selection import train_test_split\n",
    "\n",
    "\n",
    "#metrics\n",
    "from statistics import mean\n",
    "from sklearn.metrics import accuracy_score as score\n",
    "from sklearn.metrics import explained_variance_score as evs\n",
    "\n",
    "\n",
    "#Ignore Warning \n",
    "import warnings as wrn\n",
    "wrn.filterwarnings('ignore')"
   ]
  },
  {
   "cell_type": "markdown",
   "metadata": {},
   "source": [
    "Reading the csv file"
   ]
  },
  {
   "cell_type": "code",
   "execution_count": 2,
   "metadata": {
    "ExecuteTime": {
     "end_time": "2019-06-08T10:19:01.469489Z",
     "start_time": "2019-06-08T10:19:01.434892Z"
    }
   },
   "outputs": [
    {
     "data": {
      "text/html": [
       "<div>\n",
       "<style scoped>\n",
       "    .dataframe tbody tr th:only-of-type {\n",
       "        vertical-align: middle;\n",
       "    }\n",
       "\n",
       "    .dataframe tbody tr th {\n",
       "        vertical-align: top;\n",
       "    }\n",
       "\n",
       "    .dataframe thead th {\n",
       "        text-align: right;\n",
       "    }\n",
       "</style>\n",
       "<table border=\"1\" class=\"dataframe\">\n",
       "  <thead>\n",
       "    <tr style=\"text-align: right;\">\n",
       "      <th></th>\n",
       "      <th>Class</th>\n",
       "      <th>L-Weight</th>\n",
       "      <th>L-Distance</th>\n",
       "      <th>R-Weight</th>\n",
       "      <th>R-Distance</th>\n",
       "    </tr>\n",
       "  </thead>\n",
       "  <tbody>\n",
       "    <tr>\n",
       "      <th>0</th>\n",
       "      <td>B</td>\n",
       "      <td>1</td>\n",
       "      <td>1</td>\n",
       "      <td>1</td>\n",
       "      <td>1</td>\n",
       "    </tr>\n",
       "    <tr>\n",
       "      <th>1</th>\n",
       "      <td>R</td>\n",
       "      <td>1</td>\n",
       "      <td>1</td>\n",
       "      <td>1</td>\n",
       "      <td>2</td>\n",
       "    </tr>\n",
       "    <tr>\n",
       "      <th>2</th>\n",
       "      <td>R</td>\n",
       "      <td>1</td>\n",
       "      <td>1</td>\n",
       "      <td>1</td>\n",
       "      <td>3</td>\n",
       "    </tr>\n",
       "    <tr>\n",
       "      <th>3</th>\n",
       "      <td>R</td>\n",
       "      <td>1</td>\n",
       "      <td>1</td>\n",
       "      <td>1</td>\n",
       "      <td>4</td>\n",
       "    </tr>\n",
       "    <tr>\n",
       "      <th>4</th>\n",
       "      <td>R</td>\n",
       "      <td>1</td>\n",
       "      <td>1</td>\n",
       "      <td>1</td>\n",
       "      <td>5</td>\n",
       "    </tr>\n",
       "  </tbody>\n",
       "</table>\n",
       "</div>"
      ],
      "text/plain": [
       "  Class  L-Weight  L-Distance  R-Weight  R-Distance\n",
       "0     B         1           1         1           1\n",
       "1     R         1           1         1           2\n",
       "2     R         1           1         1           3\n",
       "3     R         1           1         1           4\n",
       "4     R         1           1         1           5"
      ]
     },
     "execution_count": 2,
     "metadata": {},
     "output_type": "execute_result"
    }
   ],
   "source": [
    "df = pd.read_csv('balance-scale.csv')\n",
    "df.head()"
   ]
  },
  {
   "cell_type": "markdown",
   "metadata": {
    "ExecuteTime": {
     "end_time": "2019-04-28T03:56:33.171866Z",
     "start_time": "2019-04-28T03:56:33.070021Z"
    }
   },
   "source": [
    "Calling info to check the number of missing values and datatypes"
   ]
  },
  {
   "cell_type": "code",
   "execution_count": 3,
   "metadata": {
    "ExecuteTime": {
     "end_time": "2019-06-08T10:19:01.728445Z",
     "start_time": "2019-06-08T10:19:01.472692Z"
    }
   },
   "outputs": [
    {
     "name": "stdout",
     "output_type": "stream",
     "text": [
      "<class 'pandas.core.frame.DataFrame'>\n",
      "RangeIndex: 625 entries, 0 to 624\n",
      "Data columns (total 5 columns):\n",
      "Class         625 non-null object\n",
      "L-Weight      625 non-null int64\n",
      "L-Distance    625 non-null int64\n",
      "R-Weight      625 non-null int64\n",
      "R-Distance    625 non-null int64\n",
      "dtypes: int64(4), object(1)\n",
      "memory usage: 24.5+ KB\n"
     ]
    }
   ],
   "source": [
    "df.info()"
   ]
  },
  {
   "cell_type": "markdown",
   "metadata": {
    "ExecuteTime": {
     "end_time": "2019-04-28T04:20:45.544551Z",
     "start_time": "2019-04-28T04:20:45.439986Z"
    }
   },
   "source": [
    "Label Encoding the 'Class' column so that heatmap can be plotted\n",
    "\n",
    "Plotting pairplot and heatmap to see the correlation among the attributes"
   ]
  },
  {
   "cell_type": "code",
   "execution_count": 4,
   "metadata": {
    "ExecuteTime": {
     "end_time": "2019-06-08T10:19:02.537428Z",
     "start_time": "2019-06-08T10:19:01.732523Z"
    }
   },
   "outputs": [
    {
     "data": {
      "text/plain": [
       "<matplotlib.axes._subplots.AxesSubplot at 0x7f578528e668>"
      ]
     },
     "execution_count": 4,
     "metadata": {},
     "output_type": "execute_result"
    },
    {
     "data": {
      "image/png": "[encoded data removed]",
      "text/plain": [
       "<Figure size 720x720 with 2 Axes>"
      ]
     },
     "metadata": {
      "needs_background": "light"
     },
     "output_type": "display_data"
    }
   ],
   "source": [
    "#Visualization after doing label encoding\n",
    "df['Class'] = LabelEncoder().fit_transform(df['Class'].tolist())\n",
    "\n",
    "#Heatmap\n",
    "num_feat = df.select_dtypes(include=np.number).columns\n",
    "plt.figure(figsize= (10, 10))\n",
    "sns.heatmap(df.corr(), annot = True)\n"
   ]
  },
  {
   "cell_type": "markdown",
   "metadata": {},
   "source": [
    "Conclusion : Plots show that the other attributes are equally correlated to Class. \n",
    "- Hence, droping other columns except for 'Class' is not required"
   ]
  },
  {
   "cell_type": "markdown",
   "metadata": {},
   "source": [
    "Seperating features as X and target value as y : \n",
    "- 'Class' in y\n",
    "- 'L-Weight', 'R-Weight', 'L-Distance', 'R-Distance' in X"
   ]
  },
  {
   "cell_type": "code",
   "execution_count": 5,
   "metadata": {
    "ExecuteTime": {
     "end_time": "2019-06-08T10:19:02.547005Z",
     "start_time": "2019-06-08T10:19:02.539897Z"
    }
   },
   "outputs": [],
   "source": [
    "#Dividing X and y\n",
    "y = df[['Class']]\n",
    "X = df.drop(['Class'], axis = 1)\n"
   ]
  },
  {
   "cell_type": "markdown",
   "metadata": {},
   "source": [
    "Spliting the X and y in four DataFrame :\n",
    "train_X, test_X, train_y and test_y using rain_test_split"
   ]
  },
  {
   "cell_type": "code",
   "execution_count": 6,
   "metadata": {
    "ExecuteTime": {
     "end_time": "2019-06-08T10:19:02.876208Z",
     "start_time": "2019-06-08T10:19:02.549475Z"
    }
   },
   "outputs": [],
   "source": [
    "train_X, test_X, train_y, test_y = train_test_split(X, y, test_size = 20)"
   ]
  },
  {
   "cell_type": "markdown",
   "metadata": {},
   "source": [
    "Classification and prediction using following Classifiers :\n",
    "\n",
    "- Extra Tree    Classifier\n",
    "- Xgboost       Classifier\n",
    "- Random Forest Classifier\n",
    "- Decision Tree Classifier\n",
    "- Support Vector Machine\n",
    "- K-Nearest Neighbor"
   ]
  },
  {
   "cell_type": "code",
   "execution_count": 7,
   "metadata": {
    "ExecuteTime": {
     "end_time": "2019-06-08T10:19:04.652760Z",
     "start_time": "2019-06-08T10:19:02.881259Z"
    }
   },
   "outputs": [
    {
     "name": "stdout",
     "output_type": "stream",
     "text": [
      "Accuracy in percent =  80.0\n"
     ]
    }
   ],
   "source": [
    "#Classification and prediction\n",
    "#ExtraTreeClassifier\n",
    "\n",
    "clf = ExtraTreesClassifier(n_estimators=1000)\n",
    "clf.fit(train_X, train_y)\n",
    "pred = clf.predict(test_X)\n",
    "print('Accuracy in percent = ',score(pred, test_y)*100)"
   ]
  },
  {
   "cell_type": "code",
   "execution_count": 8,
   "metadata": {
    "ExecuteTime": {
     "end_time": "2019-06-08T10:19:08.124201Z",
     "start_time": "2019-06-08T10:19:04.656977Z"
    }
   },
   "outputs": [
    {
     "name": "stdout",
     "output_type": "stream",
     "text": [
      "Accuracy in percent =  95.0\n"
     ]
    }
   ],
   "source": [
    "#Classification and prediction\n",
    "#XGBoost\n",
    "\n",
    "clf = XGBClassifier(learning_rate=0.5, n_jobs=-1, n_estimators=1000)\n",
    "clf.fit(train_X, train_y)\n",
    "pred = clf.predict(test_X)\n",
    "print('Accuracy in percent = ',score(pred, test_y)*100)"
   ]
  },
  {
   "cell_type": "code",
   "execution_count": 9,
   "metadata": {
    "ExecuteTime": {
     "end_time": "2019-06-08T10:19:10.263731Z",
     "start_time": "2019-06-08T10:19:08.127279Z"
    }
   },
   "outputs": [
    {
     "name": "stdout",
     "output_type": "stream",
     "text": [
      "Accuracy in percent =  85.0\n"
     ]
    }
   ],
   "source": [
    "#Classification and prediction\n",
    "#Random Forest\n",
    "\n",
    "clf = RandomForestClassifier(n_estimators=1000, n_jobs=-1, )\n",
    "clf.fit(train_X, train_y)\n",
    "pred = clf.predict(test_X)\n",
    "print('Accuracy in percent = ',score(pred, test_y)*100)"
   ]
  },
  {
   "cell_type": "code",
   "execution_count": 10,
   "metadata": {
    "ExecuteTime": {
     "end_time": "2019-06-08T10:19:10.287832Z",
     "start_time": "2019-06-08T10:19:10.268027Z"
    }
   },
   "outputs": [
    {
     "name": "stdout",
     "output_type": "stream",
     "text": [
      "Accuracy in percent =  75.0\n"
     ]
    }
   ],
   "source": [
    "#Classification and prediction\n",
    "#DT\n",
    "\n",
    "clf = DecisionTreeClassifier()\n",
    "clf.fit(train_X, train_y)\n",
    "pred = clf.predict(test_X)\n",
    "print('Accuracy in percent = ',score(pred, test_y)*100)"
   ]
  },
  {
   "cell_type": "code",
   "execution_count": 11,
   "metadata": {
    "ExecuteTime": {
     "end_time": "2019-06-08T10:19:10.542699Z",
     "start_time": "2019-06-08T10:19:10.292246Z"
    }
   },
   "outputs": [
    {
     "name": "stdout",
     "output_type": "stream",
     "text": [
      "Accuracy in percent =  90.0\n"
     ]
    }
   ],
   "source": [
    "#Classification and prediction\n",
    "#SVM\n",
    "\n",
    "clf = SVC()\n",
    "clf.fit(train_X, train_y)\n",
    "pred = clf.predict(test_X)\n",
    "print('Accuracy in percent = ',score(pred, test_y)*100)"
   ]
  },
  {
   "cell_type": "code",
   "execution_count": 12,
   "metadata": {
    "ExecuteTime": {
     "end_time": "2019-06-08T10:19:10.829633Z",
     "start_time": "2019-06-08T10:19:10.545081Z"
    }
   },
   "outputs": [
    {
     "name": "stdout",
     "output_type": "stream",
     "text": [
      "Accuracy in percent =  85.0\n"
     ]
    }
   ],
   "source": [
    "#Classification and prediction\n",
    "#KNN\n",
    "\n",
    "clf = KNeighborsClassifier(n_neighbors=9)\n",
    "clf.fit(train_X, train_y)\n",
    "pred = clf.predict(test_X)\n",
    "print('Accuracy in percent = ',score(pred, test_y)*100)"
   ]
  },
  {
   "cell_type": "markdown",
   "metadata": {},
   "source": [
    "Result :     Accuracy score of each classifier in percentage \n",
    "\n",
    "\n",
    "- Extra Tree    Classifier  : 80\n",
    "- Xgboost       Classifier  : 95\n",
    "- Random Forest Classifier  : 85\n",
    "- Decision Tree Classifier  : 75\n",
    "- Support Vector Machine    : 90\n",
    "- K-Nearest Neighbor        : 85\n",
    "\n",
    "\n",
    "Conclusion :\n",
    "XGBoost Classifier, SVM, and KNN have best accuracy with 95%"
   ]
  },
  {
   "cell_type": "code",
   "execution_count": null,
   "metadata": {},
   "outputs": [],
   "source": []
  }
 ],
 "metadata": {
  "kernelspec": {
   "display_name": "Python 3",
   "language": "python",
   "name": "python3"
  },
  "language_info": {
   "codemirror_mode": {
    "name": "ipython",
    "version": 3
   },
   "file_extension": ".py",
   "mimetype": "text/x-python",
   "name": "python",
   "nbconvert_exporter": "python",
   "pygments_lexer": "ipython3",
   "version": "3.7.3"
  },
  "varInspector": {
   "cols": {
    "lenName": 16,
    "lenType": 16,
    "lenVar": 40
   },
   "kernels_config": {
    "python": {
     "delete_cmd_postfix": "",
     "delete_cmd_prefix": "del ",
     "library": "var_list.py",
     "varRefreshCmd": "print(var_dic_list())"
    },
    "r": {
     "delete_cmd_postfix": ") ",
     "delete_cmd_prefix": "rm(",
     "library": "var_list.r",
     "varRefreshCmd": "cat(var_dic_list()) "
    }
   },
   "types_to_exclude": [
    "module",
    "function",
    "builtin_function_or_method",
    "instance",
    "_Feature"
   ],
   "window_display": false
  }
 },
 "nbformat": 4,
 "nbformat_minor": 2
}
